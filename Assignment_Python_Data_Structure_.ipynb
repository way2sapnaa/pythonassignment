{
  "cells": [
    {
      "cell_type": "markdown",
      "metadata": {
        "id": "view-in-github",
        "colab_type": "text"
      },
      "source": [
        "<a href=\"https://colab.research.google.com/github/way2sapnaa/pythonassignment/blob/main/Assignment_Python_Data_Structure_.ipynb\" target=\"_parent\"><img src=\"https://colab.research.google.com/assets/colab-badge.svg\" alt=\"Open In Colab\"/></a>"
      ]
    },
    {
      "cell_type": "markdown",
      "id": "b934811d",
      "metadata": {
        "id": "b934811d"
      },
      "source": [
        "**1. What are data structures, and why are they important?**\n",
        "\n",
        "*Answer:*\n",
        "\n",
        "Data structures are ways of organizing and storing data efficiently. They help in processing, retrieving, and storing data effectively, crucial for writing optimized code."
      ]
    },
    {
      "cell_type": "markdown",
      "id": "72e94375",
      "metadata": {
        "id": "72e94375"
      },
      "source": [
        "**2. Explain the difference between mutable and immutable data types with examples.**\n",
        "\n",
        "*Answer:*\n",
        "\n",
        "Mutable data types can be changed after creation (e.g., lists, dictionaries), while immutable types cannot (e.g., strings, tuples). Example: `my_list = [1, 2]` is mutable, `my_tuple = (1, 2)` is immutable."
      ]
    },
    {
      "cell_type": "markdown",
      "id": "12afd585",
      "metadata": {
        "id": "12afd585"
      },
      "source": [
        "**3. What are the main differences between lists and tuples in Python?**\n",
        "\n",
        "*Answer:*\n",
        "\n",
        "Lists are mutable and allow changes, while tuples are immutable and faster for iteration. Lists use square brackets `[]`, tuples use parentheses `()`."
      ]
    },
    {
      "cell_type": "markdown",
      "id": "cc1828f8",
      "metadata": {
        "id": "cc1828f8"
      },
      "source": [
        "**4. Describe how dictionaries store data.**\n",
        "\n",
        "*Answer:*\n",
        "\n",
        "Dictionaries store data in key-value pairs using a hash table, allowing quick access via keys."
      ]
    },
    {
      "cell_type": "markdown",
      "id": "6dd41457",
      "metadata": {
        "id": "6dd41457"
      },
      "source": [
        "**5. Why might you use a set instead of a list in Python?**\n",
        "\n",
        "*Answer:*\n",
        "\n",
        "Sets remove duplicate elements and offer fast membership testing, making them useful when uniqueness is required."
      ]
    },
    {
      "cell_type": "markdown",
      "id": "1773c8b5",
      "metadata": {
        "id": "1773c8b5"
      },
      "source": [
        "**6. What is a string in Python, and how is it different from a list?**\n",
        "\n",
        "*Answer:*\n",
        "\n",
        "A string is an immutable sequence of characters. Unlike lists, strings cannot be modified in-place."
      ]
    },
    {
      "cell_type": "markdown",
      "id": "2c2315ab",
      "metadata": {
        "id": "2c2315ab"
      },
      "source": [
        "**7. How do tuples ensure data integrity in Python?**\n",
        "\n",
        "*Answer:*\n",
        "\n",
        "Tuples are immutable, preventing accidental data changes. This ensures data integrity in programs."
      ]
    },
    {
      "cell_type": "markdown",
      "id": "66f4814b",
      "metadata": {
        "id": "66f4814b"
      },
      "source": [
        "**8. What is a hash table, and how does it relate to dictionaries in Python?**\n",
        "\n",
        "*Answer:*\n",
        "\n",
        "A hash table stores key-value pairs and allows fast access using keys. Python dictionaries are built on hash tables."
      ]
    },
    {
      "cell_type": "markdown",
      "id": "7895f868",
      "metadata": {
        "id": "7895f868"
      },
      "source": [
        "**9. Can lists contain different data types in Python?**\n",
        "\n",
        "*Answer:*\n",
        "\n",
        "Yes, Python lists can contain different data types like `['apple', 10, True]`."
      ]
    },
    {
      "cell_type": "markdown",
      "id": "d9cf2992",
      "metadata": {
        "id": "d9cf2992"
      },
      "source": [
        "**10. Explain why strings are immutable in Python.**\n",
        "\n",
        "*Answer:*\n",
        "\n",
        "Strings are immutable to ensure consistency, optimize memory, and allow safe sharing among variables."
      ]
    },
    {
      "cell_type": "markdown",
      "id": "51b0a2a7",
      "metadata": {
        "id": "51b0a2a7"
      },
      "source": [
        "**11. What advantages do dictionaries offer over lists for certain tasks?**\n",
        "\n",
        "*Answer:*\n",
        "\n",
        "Dictionaries allow fast key-based access and better organization for large datasets compared to index-based lists."
      ]
    },
    {
      "cell_type": "markdown",
      "id": "d373f11f",
      "metadata": {
        "id": "d373f11f"
      },
      "source": [
        "**12. Describe a scenario where using a tuple would be preferable over a list.**\n",
        "\n",
        "*Answer:*\n",
        "\n",
        "Tuples are preferable when data shouldn't change, like storing constants or keys in dictionaries."
      ]
    },
    {
      "cell_type": "markdown",
      "id": "3291dc09",
      "metadata": {
        "id": "3291dc09"
      },
      "source": [
        "**13. How do sets handle duplicate values in Python?**\n",
        "\n",
        "*Answer:*\n",
        "\n",
        "Sets automatically eliminate duplicate entries, ensuring all values are unique."
      ]
    },
    {
      "cell_type": "markdown",
      "id": "a1979e25",
      "metadata": {
        "id": "a1979e25"
      },
      "source": [
        "**14. How does the “in” keyword work differently for lists and dictionaries?**\n",
        "\n",
        "*Answer:*\n",
        "\n",
        "`in` checks membership. In lists, it checks values; in dictionaries, it checks keys."
      ]
    },
    {
      "cell_type": "markdown",
      "id": "7c17774f",
      "metadata": {
        "id": "7c17774f"
      },
      "source": [
        "**15. Can you modify the elements of a tuple? Explain why or why not.**\n",
        "\n",
        "*Answer:*\n",
        "\n",
        "No, tuple elements cannot be changed after creation due to immutability."
      ]
    },
    {
      "cell_type": "markdown",
      "id": "49086347",
      "metadata": {
        "id": "49086347"
      },
      "source": [
        "**16. What is a nested dictionary, and give an example of its use case.**\n",
        "\n",
        "*Answer:*\n",
        "\n",
        "A nested dictionary contains another dictionary. Example: `{'student': {'name': 'Ali', 'age': 21}}`."
      ]
    },
    {
      "cell_type": "markdown",
      "id": "fda16f84",
      "metadata": {
        "id": "fda16f84"
      },
      "source": [
        "**17. Describe the time complexity of accessing elements in a dictionary.**\n",
        "\n",
        "*Answer:*\n",
        "\n",
        "Accessing dictionary elements is O(1) on average due to hashing."
      ]
    },
    {
      "cell_type": "markdown",
      "id": "18461b57",
      "metadata": {
        "id": "18461b57"
      },
      "source": [
        "**18. In what situations are lists preferred over dictionaries?**\n",
        "\n",
        "*Answer:*\n",
        "\n",
        "Lists are better when order matters and elements need to be accessed by position."
      ]
    },
    {
      "cell_type": "markdown",
      "id": "58025d38",
      "metadata": {
        "id": "58025d38"
      },
      "source": [
        "**19. Why are dictionaries considered unordered, and how does that affect data retrieval?**\n",
        "\n",
        "*Answer:*\n",
        "\n",
        "Dictionaries are unordered collections (before Python 3.7), so data isn't retrieved in insertion order."
      ]
    },
    {
      "cell_type": "markdown",
      "id": "8aecb55a",
      "metadata": {
        "id": "8aecb55a"
      },
      "source": [
        "**20. Explain the difference between a list and a dictionary in terms of data retrieval.**\n",
        "\n",
        "*Answer:*\n",
        "\n",
        "Lists use index-based retrieval; dictionaries use key-based retrieval for faster access."
      ]
    },
    {
      "cell_type": "markdown",
      "id": "142f6fa4",
      "metadata": {
        "id": "142f6fa4"
      },
      "source": [
        "## Practical Questions"
      ]
    },
    {
      "cell_type": "markdown",
      "id": "b51494de",
      "metadata": {
        "id": "b51494de"
      },
      "source": [
        "**1. Write a code to create a string with your name and print it.**"
      ]
    },
    {
      "cell_type": "code",
      "execution_count": null,
      "id": "01a688a8",
      "metadata": {
        "colab": {
          "base_uri": "https://localhost:8080/"
        },
        "id": "01a688a8",
        "outputId": "4dede47d-cf75-4905-bdf3-3e230de5da26"
      },
      "outputs": [
        {
          "output_type": "stream",
          "name": "stdout",
          "text": [
            "Your Name\n"
          ]
        }
      ],
      "source": [
        "name = \"Your Name\"\n",
        "print(name)"
      ]
    },
    {
      "cell_type": "markdown",
      "id": "32ebf2bd",
      "metadata": {
        "id": "32ebf2bd"
      },
      "source": [
        "**2. Write a code to find the length of the string \"Hello World\".**"
      ]
    },
    {
      "cell_type": "code",
      "execution_count": null,
      "id": "35b0d1ce",
      "metadata": {
        "colab": {
          "base_uri": "https://localhost:8080/"
        },
        "id": "35b0d1ce",
        "outputId": "bc214e69-386c-48ee-f2d4-e4a0329533b6"
      },
      "outputs": [
        {
          "output_type": "stream",
          "name": "stdout",
          "text": [
            "11\n"
          ]
        }
      ],
      "source": [
        "s = \"Hello World\"\n",
        "print(len(s))"
      ]
    },
    {
      "cell_type": "markdown",
      "id": "7c2bc12c",
      "metadata": {
        "id": "7c2bc12c"
      },
      "source": [
        "**3. Write a code to slice the first 3 characters from the string \"Python Programming\".**"
      ]
    },
    {
      "cell_type": "code",
      "execution_count": null,
      "id": "7ff7d4c0",
      "metadata": {
        "colab": {
          "base_uri": "https://localhost:8080/"
        },
        "id": "7ff7d4c0",
        "outputId": "e67f5b4a-e274-4573-c81b-2016bad0b4ff"
      },
      "outputs": [
        {
          "output_type": "stream",
          "name": "stdout",
          "text": [
            "Pyt\n"
          ]
        }
      ],
      "source": [
        "s = \"Python Programming\"\n",
        "print(s[:3])"
      ]
    },
    {
      "cell_type": "markdown",
      "id": "278f3458",
      "metadata": {
        "id": "278f3458"
      },
      "source": [
        "**4. Write a code to convert the string \"hello\" to uppercase.**"
      ]
    },
    {
      "cell_type": "code",
      "execution_count": null,
      "id": "06ec6d3a",
      "metadata": {
        "colab": {
          "base_uri": "https://localhost:8080/"
        },
        "id": "06ec6d3a",
        "outputId": "b1d46d49-e196-452d-abb6-0db197492864"
      },
      "outputs": [
        {
          "output_type": "stream",
          "name": "stdout",
          "text": [
            "HELLO\n"
          ]
        }
      ],
      "source": [
        "s = \"hello\"\n",
        "print(s.upper())"
      ]
    },
    {
      "cell_type": "markdown",
      "id": "c8f78f32",
      "metadata": {
        "id": "c8f78f32"
      },
      "source": [
        "**5. Write a code to replace the word \"apple\" with \"orange\" in the string \"I like apple\".**"
      ]
    },
    {
      "cell_type": "code",
      "execution_count": null,
      "id": "fa462f6a",
      "metadata": {
        "colab": {
          "base_uri": "https://localhost:8080/"
        },
        "id": "fa462f6a",
        "outputId": "d131809c-c887-4318-83b6-82843b134178"
      },
      "outputs": [
        {
          "output_type": "stream",
          "name": "stdout",
          "text": [
            "I like orange\n"
          ]
        }
      ],
      "source": [
        "s = \"I like apple\"\n",
        "print(s.replace(\"apple\", \"orange\"))"
      ]
    },
    {
      "cell_type": "markdown",
      "id": "7eaa7b24",
      "metadata": {
        "id": "7eaa7b24"
      },
      "source": [
        "**6. Write a code to create a list with numbers 1 to 5 and print it.**"
      ]
    },
    {
      "cell_type": "code",
      "execution_count": null,
      "id": "eeae1b0e",
      "metadata": {
        "colab": {
          "base_uri": "https://localhost:8080/"
        },
        "id": "eeae1b0e",
        "outputId": "d8b25f9d-8875-4a84-9059-50978425666f"
      },
      "outputs": [
        {
          "output_type": "stream",
          "name": "stdout",
          "text": [
            "[1, 2, 3, 4, 5]\n"
          ]
        }
      ],
      "source": [
        "lst = [1, 2, 3, 4, 5]\n",
        "print(lst)"
      ]
    },
    {
      "cell_type": "markdown",
      "id": "2754a5a9",
      "metadata": {
        "id": "2754a5a9"
      },
      "source": [
        "**7. Write a code to append the number 10 to the list [1, 2, 3, 4].**"
      ]
    },
    {
      "cell_type": "code",
      "execution_count": null,
      "id": "66dbade8",
      "metadata": {
        "colab": {
          "base_uri": "https://localhost:8080/"
        },
        "id": "66dbade8",
        "outputId": "1b7dac66-8f99-41d3-d8c3-b6d0609a024f"
      },
      "outputs": [
        {
          "output_type": "stream",
          "name": "stdout",
          "text": [
            "[1, 2, 3, 4, 10]\n"
          ]
        }
      ],
      "source": [
        "lst = [1, 2, 3, 4]\n",
        "lst.append(10)\n",
        "print(lst)"
      ]
    },
    {
      "cell_type": "markdown",
      "id": "ff94471d",
      "metadata": {
        "id": "ff94471d"
      },
      "source": [
        "**8. Write a code to remove the number 3 from the list [1, 2, 3, 4, 5].**"
      ]
    },
    {
      "cell_type": "code",
      "execution_count": null,
      "id": "f0c6c969",
      "metadata": {
        "colab": {
          "base_uri": "https://localhost:8080/"
        },
        "id": "f0c6c969",
        "outputId": "15ff1f4f-56a7-466a-89e8-6c40b4f7f372"
      },
      "outputs": [
        {
          "output_type": "stream",
          "name": "stdout",
          "text": [
            "[1, 2, 4, 5]\n"
          ]
        }
      ],
      "source": [
        "lst = [1, 2, 3, 4, 5]\n",
        "lst.remove(3)\n",
        "print(lst)"
      ]
    },
    {
      "cell_type": "markdown",
      "id": "a4a10b55",
      "metadata": {
        "id": "a4a10b55"
      },
      "source": [
        "**9. Write a code to access the second element in the list ['a', 'b', 'c', 'd'].**"
      ]
    },
    {
      "cell_type": "code",
      "execution_count": null,
      "id": "ed40e60e",
      "metadata": {
        "colab": {
          "base_uri": "https://localhost:8080/"
        },
        "id": "ed40e60e",
        "outputId": "963a0aa3-72ca-464c-b9bf-e430464d870e"
      },
      "outputs": [
        {
          "output_type": "stream",
          "name": "stdout",
          "text": [
            "b\n"
          ]
        }
      ],
      "source": [
        "lst = ['a', 'b', 'c', 'd']\n",
        "print(lst[1])"
      ]
    },
    {
      "cell_type": "markdown",
      "id": "8873bfb8",
      "metadata": {
        "id": "8873bfb8"
      },
      "source": [
        "**10. Write a code to reverse the list [10, 20, 30, 40, 50].**"
      ]
    },
    {
      "cell_type": "code",
      "execution_count": null,
      "id": "4f328201",
      "metadata": {
        "colab": {
          "base_uri": "https://localhost:8080/"
        },
        "id": "4f328201",
        "outputId": "8432cfc0-8bd9-4b0d-b6d2-50bb6a81ac46"
      },
      "outputs": [
        {
          "output_type": "stream",
          "name": "stdout",
          "text": [
            "[50, 40, 30, 20, 10]\n"
          ]
        }
      ],
      "source": [
        "lst = [10, 20, 30, 40, 50]\n",
        "lst.reverse()\n",
        "print(lst)"
      ]
    },
    {
      "cell_type": "markdown",
      "id": "8c0b6500",
      "metadata": {
        "id": "8c0b6500"
      },
      "source": [
        "**11. Write a code to create a tuple with the elements 100, 200, 300 and print it.**"
      ]
    },
    {
      "cell_type": "code",
      "execution_count": null,
      "id": "4bd6aead",
      "metadata": {
        "colab": {
          "base_uri": "https://localhost:8080/"
        },
        "id": "4bd6aead",
        "outputId": "ca5d9527-a85d-41b9-917c-2372751a9a00"
      },
      "outputs": [
        {
          "output_type": "stream",
          "name": "stdout",
          "text": [
            "(100, 200, 300)\n"
          ]
        }
      ],
      "source": [
        "tpl = (100, 200, 300)\n",
        "print(tpl)"
      ]
    },
    {
      "cell_type": "markdown",
      "id": "ce67b11e",
      "metadata": {
        "id": "ce67b11e"
      },
      "source": [
        "**12. Write a code to access the second-to-last element of the tuple ('red', 'green', 'blue', 'yellow').**"
      ]
    },
    {
      "cell_type": "code",
      "execution_count": null,
      "id": "17e246df",
      "metadata": {
        "colab": {
          "base_uri": "https://localhost:8080/"
        },
        "id": "17e246df",
        "outputId": "0f66614a-ffd4-4aae-c4d3-4b47abbe411b"
      },
      "outputs": [
        {
          "output_type": "stream",
          "name": "stdout",
          "text": [
            "blue\n"
          ]
        }
      ],
      "source": [
        "tpl = ('red', 'green', 'blue', 'yellow')\n",
        "print(tpl[-2])"
      ]
    },
    {
      "cell_type": "markdown",
      "id": "bd8858d0",
      "metadata": {
        "id": "bd8858d0"
      },
      "source": [
        "**13. Write a code to find the minimum number in the tuple (10, 20, 5, 15).**"
      ]
    },
    {
      "cell_type": "code",
      "execution_count": null,
      "id": "d3e16440",
      "metadata": {
        "colab": {
          "base_uri": "https://localhost:8080/"
        },
        "id": "d3e16440",
        "outputId": "66c1738b-f1f2-48dc-d50a-f96f0c71ded9"
      },
      "outputs": [
        {
          "output_type": "stream",
          "name": "stdout",
          "text": [
            "5\n"
          ]
        }
      ],
      "source": [
        "tpl = (10, 20, 5, 15)\n",
        "print(min(tpl))"
      ]
    },
    {
      "cell_type": "markdown",
      "id": "4acb75b2",
      "metadata": {
        "id": "4acb75b2"
      },
      "source": [
        "**14. Write a code to find the index of the element \"cat\" in the tuple ('dog', 'cat', 'rabbit').**"
      ]
    },
    {
      "cell_type": "code",
      "execution_count": null,
      "id": "fd5ab328",
      "metadata": {
        "colab": {
          "base_uri": "https://localhost:8080/"
        },
        "id": "fd5ab328",
        "outputId": "2eae4544-e793-4e86-99f0-1668727bc26a"
      },
      "outputs": [
        {
          "output_type": "stream",
          "name": "stdout",
          "text": [
            "1\n"
          ]
        }
      ],
      "source": [
        "tpl = ('dog', 'cat', 'rabbit')\n",
        "print(tpl.index('cat'))"
      ]
    },
    {
      "cell_type": "markdown",
      "id": "c42e16a8",
      "metadata": {
        "id": "c42e16a8"
      },
      "source": [
        "**15. Write a code to create a tuple containing three different fruits and check if \"kiwi\" is in it.**"
      ]
    },
    {
      "cell_type": "code",
      "execution_count": null,
      "id": "b341cdcb",
      "metadata": {
        "colab": {
          "base_uri": "https://localhost:8080/"
        },
        "id": "b341cdcb",
        "outputId": "79685565-d9f1-480e-b4e7-c7ebacbbe031"
      },
      "outputs": [
        {
          "output_type": "stream",
          "name": "stdout",
          "text": [
            "False\n"
          ]
        }
      ],
      "source": [
        "fruits = (\"apple\", \"banana\", \"cherry\")\n",
        "print(\"kiwi\" in fruits)"
      ]
    },
    {
      "cell_type": "markdown",
      "id": "bd1b9fc5",
      "metadata": {
        "id": "bd1b9fc5"
      },
      "source": [
        "**16. Write a code to create a set with the elements 'a', 'b', 'c' and print it.**"
      ]
    },
    {
      "cell_type": "code",
      "execution_count": null,
      "id": "ab047da1",
      "metadata": {
        "colab": {
          "base_uri": "https://localhost:8080/"
        },
        "id": "ab047da1",
        "outputId": "1b5d1e9d-0189-457f-8456-fba8193eea0f"
      },
      "outputs": [
        {
          "output_type": "stream",
          "name": "stdout",
          "text": [
            "{'c', 'b', 'a'}\n"
          ]
        }
      ],
      "source": [
        "s = {'a', 'b', 'c'}\n",
        "print(s)"
      ]
    },
    {
      "cell_type": "markdown",
      "id": "9a43c5c4",
      "metadata": {
        "id": "9a43c5c4"
      },
      "source": [
        "**17. Write a code to clear all elements from the set {1, 2, 3, 4, 5}.**"
      ]
    },
    {
      "cell_type": "code",
      "execution_count": null,
      "id": "44aab80d",
      "metadata": {
        "colab": {
          "base_uri": "https://localhost:8080/"
        },
        "id": "44aab80d",
        "outputId": "969c1017-c4b8-4b08-a9f7-d82bd6feb17a"
      },
      "outputs": [
        {
          "output_type": "stream",
          "name": "stdout",
          "text": [
            "set()\n"
          ]
        }
      ],
      "source": [
        "s = {1, 2, 3, 4, 5}\n",
        "s.clear()\n",
        "print(s)"
      ]
    },
    {
      "cell_type": "markdown",
      "id": "52bfaebd",
      "metadata": {
        "id": "52bfaebd"
      },
      "source": [
        "**18. Write a code to remove the element 4 from the set {1, 2, 3, 4}.**"
      ]
    },
    {
      "cell_type": "code",
      "execution_count": null,
      "id": "f7beed7a",
      "metadata": {
        "colab": {
          "base_uri": "https://localhost:8080/"
        },
        "id": "f7beed7a",
        "outputId": "63f6ca60-37cc-4886-c550-31a3da78c8ac"
      },
      "outputs": [
        {
          "output_type": "stream",
          "name": "stdout",
          "text": [
            "{1, 2, 3}\n"
          ]
        }
      ],
      "source": [
        "s = {1, 2, 3, 4}\n",
        "s.remove(4)\n",
        "print(s)"
      ]
    },
    {
      "cell_type": "markdown",
      "id": "47db95c1",
      "metadata": {
        "id": "47db95c1"
      },
      "source": [
        "**19. Write a code to find the union of two sets {1, 2, 3} and {3, 4, 5}.**"
      ]
    },
    {
      "cell_type": "code",
      "execution_count": null,
      "id": "c5a890d1",
      "metadata": {
        "colab": {
          "base_uri": "https://localhost:8080/"
        },
        "id": "c5a890d1",
        "outputId": "1a224a3c-07c8-4f0e-bf0d-6a399d4a3e19"
      },
      "outputs": [
        {
          "output_type": "stream",
          "name": "stdout",
          "text": [
            "{1, 2, 3, 4, 5}\n"
          ]
        }
      ],
      "source": [
        "s1 = {1, 2, 3}\n",
        "s2 = {3, 4, 5}\n",
        "print(s1.union(s2))"
      ]
    },
    {
      "cell_type": "markdown",
      "id": "a84bb455",
      "metadata": {
        "id": "a84bb455"
      },
      "source": [
        "**20. Write a code to find the intersection of two sets {1, 2, 3} and {2, 3, 4}.**"
      ]
    },
    {
      "cell_type": "code",
      "execution_count": null,
      "id": "c9d4683c",
      "metadata": {
        "colab": {
          "base_uri": "https://localhost:8080/"
        },
        "id": "c9d4683c",
        "outputId": "31bdfbad-6226-40b2-f83a-a1392f11380e"
      },
      "outputs": [
        {
          "output_type": "stream",
          "name": "stdout",
          "text": [
            "{2, 3}\n"
          ]
        }
      ],
      "source": [
        "s1 = {1, 2, 3}\n",
        "s2 = {2, 3, 4}\n",
        "print(s1.intersection(s2))"
      ]
    },
    {
      "cell_type": "markdown",
      "id": "5f15d7a1",
      "metadata": {
        "id": "5f15d7a1"
      },
      "source": [
        "**21. Write a code to create a dictionary with the keys \"name\", \"age\", and \"city\", and print it.**"
      ]
    },
    {
      "cell_type": "code",
      "execution_count": null,
      "id": "80110fe8",
      "metadata": {
        "colab": {
          "base_uri": "https://localhost:8080/"
        },
        "id": "80110fe8",
        "outputId": "ba7dd549-2504-48a8-8106-3fefcd31482c"
      },
      "outputs": [
        {
          "output_type": "stream",
          "name": "stdout",
          "text": [
            "{'name': 'John', 'age': 30, 'city': 'New York'}\n"
          ]
        }
      ],
      "source": [
        "d = {\"name\": \"John\", \"age\": 30, \"city\": \"New York\"}\n",
        "print(d)"
      ]
    },
    {
      "cell_type": "markdown",
      "id": "dc3eff51",
      "metadata": {
        "id": "dc3eff51"
      },
      "source": [
        "**22. Write a code to add a new key-value pair \"country\": \"USA\" to the dictionary {'name': 'John', 'age': 25}.**"
      ]
    },
    {
      "cell_type": "code",
      "execution_count": null,
      "id": "2b4febb4",
      "metadata": {
        "colab": {
          "base_uri": "https://localhost:8080/"
        },
        "id": "2b4febb4",
        "outputId": "38188d0d-5cc5-4440-ede1-19220a13342d"
      },
      "outputs": [
        {
          "output_type": "stream",
          "name": "stdout",
          "text": [
            "{'name': 'John', 'age': 25, 'country': 'USA'}\n"
          ]
        }
      ],
      "source": [
        "d = {'name': 'John', 'age': 25}\n",
        "d['country'] = 'USA'\n",
        "print(d)"
      ]
    },
    {
      "cell_type": "markdown",
      "id": "b303445c",
      "metadata": {
        "id": "b303445c"
      },
      "source": [
        "**23. Write a code to access the value associated with the key \"name\" in the dictionary {'name': 'Alice', 'age': 30}.**"
      ]
    },
    {
      "cell_type": "code",
      "execution_count": null,
      "id": "39cefd8a",
      "metadata": {
        "colab": {
          "base_uri": "https://localhost:8080/"
        },
        "id": "39cefd8a",
        "outputId": "3a0d9031-7905-45ee-bfd6-e13d3261839a"
      },
      "outputs": [
        {
          "output_type": "stream",
          "name": "stdout",
          "text": [
            "Alice\n"
          ]
        }
      ],
      "source": [
        "d = {'name': 'Alice', 'age': 30}\n",
        "print(d['name'])"
      ]
    },
    {
      "cell_type": "markdown",
      "id": "c549be4b",
      "metadata": {
        "id": "c549be4b"
      },
      "source": [
        "**24. Write a code to remove the key \"age\" from the dictionary {'name': 'Bob', 'age': 22, 'city': 'New York'}.**"
      ]
    },
    {
      "cell_type": "code",
      "execution_count": null,
      "id": "29986fa3",
      "metadata": {
        "colab": {
          "base_uri": "https://localhost:8080/"
        },
        "id": "29986fa3",
        "outputId": "4bb44456-506b-417a-cfa2-09d58fc36179"
      },
      "outputs": [
        {
          "output_type": "stream",
          "name": "stdout",
          "text": [
            "{'name': 'Bob', 'city': 'New York'}\n"
          ]
        }
      ],
      "source": [
        "d = {'name': 'Bob', 'age': 22, 'city': 'New York'}\n",
        "d.pop('age')\n",
        "print(d)"
      ]
    },
    {
      "cell_type": "markdown",
      "id": "4bf966f9",
      "metadata": {
        "id": "4bf966f9"
      },
      "source": [
        "**25. Write a code to check if the key \"city\" exists in the dictionary {'name': 'Alice', 'city': 'Paris'}.**"
      ]
    },
    {
      "cell_type": "code",
      "execution_count": null,
      "id": "6793ecaf",
      "metadata": {
        "colab": {
          "base_uri": "https://localhost:8080/"
        },
        "id": "6793ecaf",
        "outputId": "44f5a6a7-6694-4600-b0dc-df1c9082fc24"
      },
      "outputs": [
        {
          "output_type": "stream",
          "name": "stdout",
          "text": [
            "True\n"
          ]
        }
      ],
      "source": [
        "d = {'name': 'Alice', 'city': 'Paris'}\n",
        "print('city' in d)"
      ]
    },
    {
      "cell_type": "markdown",
      "id": "c608b48b",
      "metadata": {
        "id": "c608b48b"
      },
      "source": [
        "**26. Write a code to create a list, a tuple, and a dictionary, and print them all.**"
      ]
    },
    {
      "cell_type": "code",
      "execution_count": null,
      "id": "7de4b406",
      "metadata": {
        "colab": {
          "base_uri": "https://localhost:8080/"
        },
        "id": "7de4b406",
        "outputId": "5fb2b500-5e27-47af-e5ec-5ebe2b4dbabc"
      },
      "outputs": [
        {
          "output_type": "stream",
          "name": "stdout",
          "text": [
            "[1, 2, 3] (4, 5, 6) {'a': 7, 'b': 8}\n"
          ]
        }
      ],
      "source": [
        "lst = [1, 2, 3]\n",
        "tpl = (4, 5, 6)\n",
        "dct = {'a': 7, 'b': 8}\n",
        "print(lst, tpl, dct)"
      ]
    },
    {
      "cell_type": "markdown",
      "id": "e38599a6",
      "metadata": {
        "id": "e38599a6"
      },
      "source": [
        "**27. Write a code to create a list of 5 random numbers between 1 and 100, sort it in ascending order, and print the result.**"
      ]
    },
    {
      "cell_type": "code",
      "execution_count": null,
      "id": "fe18d8bf",
      "metadata": {
        "colab": {
          "base_uri": "https://localhost:8080/"
        },
        "id": "fe18d8bf",
        "outputId": "36663efd-9127-4b8c-f412-784dc32b58fa"
      },
      "outputs": [
        {
          "output_type": "stream",
          "name": "stdout",
          "text": [
            "[5, 70, 81, 95, 98]\n"
          ]
        }
      ],
      "source": [
        "import random\n",
        "lst = random.sample(range(1, 101), 5)\n",
        "lst.sort()\n",
        "print(lst)"
      ]
    },
    {
      "cell_type": "markdown",
      "id": "fb2e72c6",
      "metadata": {
        "id": "fb2e72c6"
      },
      "source": [
        "**28. Write a code to create a list with strings and print the element at the third index.**"
      ]
    },
    {
      "cell_type": "code",
      "execution_count": null,
      "id": "b0b072d3",
      "metadata": {
        "colab": {
          "base_uri": "https://localhost:8080/"
        },
        "id": "b0b072d3",
        "outputId": "f312daa8-6413-42ee-b48a-9c46302daa1a"
      },
      "outputs": [
        {
          "output_type": "stream",
          "name": "stdout",
          "text": [
            "date\n"
          ]
        }
      ],
      "source": [
        "lst = ['apple', 'banana', 'cherry', 'date']\n",
        "print(lst[3])"
      ]
    },
    {
      "cell_type": "markdown",
      "id": "3593222e",
      "metadata": {
        "id": "3593222e"
      },
      "source": [
        "**29. Write a code to combine two dictionaries into one and print the result.**"
      ]
    },
    {
      "cell_type": "code",
      "execution_count": null,
      "id": "d6127513",
      "metadata": {
        "colab": {
          "base_uri": "https://localhost:8080/"
        },
        "id": "d6127513",
        "outputId": "69848e6b-cadc-4075-ecc8-32082a8ffd75"
      },
      "outputs": [
        {
          "output_type": "stream",
          "name": "stdout",
          "text": [
            "{'a': 1, 'b': 2}\n"
          ]
        }
      ],
      "source": [
        "d1 = {'a': 1}\n",
        "d2 = {'b': 2}\n",
        "d1.update(d2)\n",
        "print(d1)"
      ]
    },
    {
      "cell_type": "markdown",
      "id": "16952f99",
      "metadata": {
        "id": "16952f99"
      },
      "source": [
        "**30. Write a code to convert a list of strings into a set.**"
      ]
    },
    {
      "cell_type": "code",
      "execution_count": null,
      "id": "6449bdca",
      "metadata": {
        "colab": {
          "base_uri": "https://localhost:8080/"
        },
        "id": "6449bdca",
        "outputId": "121169bf-1fa5-42d2-ff14-061491327266"
      },
      "outputs": [
        {
          "output_type": "stream",
          "name": "stdout",
          "text": [
            "{'banana', 'apple', 'cherry'}\n"
          ]
        }
      ],
      "source": [
        "lst = ['apple', 'banana', 'cherry']\n",
        "print(set(lst))"
      ]
    }
  ],
  "metadata": {
    "colab": {
      "provenance": [],
      "include_colab_link": true
    },
    "language_info": {
      "name": "python"
    },
    "kernelspec": {
      "name": "python3",
      "display_name": "Python 3"
    }
  },
  "nbformat": 4,
  "nbformat_minor": 5
}