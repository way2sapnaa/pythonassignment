{
  "nbformat": 4,
  "nbformat_minor": 0,
  "metadata": {
    "colab": {
      "provenance": []
    },
    "kernelspec": {
      "name": "python3",
      "display_name": "Python 3"
    },
    "language_info": {
      "name": "python"
    }
  },
  "cells": [
    {
      "cell_type": "code",
      "execution_count": null,
      "metadata": {
        "id": "9GqdJ-2ofpbY"
      },
      "outputs": [],
      "source": []
    },
    {
      "cell_type": "markdown",
      "source": [
        " 1.What is Python, and why is it popular?\n",
        " --Python is a programming language developed by Guido van Rossum and its versatile, high-level programming language known for its readability and ease of use, making it popular for a wide range of applications, including web development, data science, machine learning, and automation. Its popularity stems from its simple syntax, and easy to learn."
      ],
      "metadata": {
        "id": "PZC3rYVkf9A8"
      }
    },
    {
      "cell_type": "markdown",
      "source": [
        "2.What is an interpreter in Python?\n",
        "--ython, an interpreter is a program that reads your code and runs it, line by line. It acts like a translator, converting your Python instructions into a form the computer can understand and execute."
      ],
      "metadata": {
        "id": "RJlveo25hQk2"
      }
    },
    {
      "cell_type": "markdown",
      "source": [
        "3.What are pre-defined keywords in Python?\n",
        "--Keywords are reserved words in Python that have specific meanings and purposes, and they cannot be used as identifiers such as variable names, function names, or class names.For example:false, is, if, else, import etc."
      ],
      "metadata": {
        "id": "rrPj_efEhmWo"
      }
    },
    {
      "cell_type": "markdown",
      "source": [
        "4.Can keywords be used as variable names?\n",
        "--No keywords are cannot be used as variable names because keywords have some specific meaning that helps to interpret the suntex of the code."
      ],
      "metadata": {
        "id": "bk_-jan7ifAx"
      }
    },
    {
      "cell_type": "markdown",
      "source": [
        "5.What is mutability in Python?\n",
        "--Python, mutability refers to an object's ability to be modified after it's created."
      ],
      "metadata": {
        "id": "IsKKNFUdi-AA"
      }
    },
    {
      "cell_type": "markdown",
      "source": [
        "6.Why are lists mutable, but tuples are immutable?\n",
        "--Lists are mutable because they are designed to allow modifications after creation, enabling the addition, deletion, or replacement of elements. Tuples, on the other hand, are immutable; once a tuple is created, its elements cannot be altered."
      ],
      "metadata": {
        "id": "2usTeovptDwo"
      }
    },
    {
      "cell_type": "markdown",
      "source": [
        "7.What is the difference between “==” and “is” operators in Python?\n",
        "--The \"==\" and \"is\" operators in Python helps to checks the equality of value, while the \"is\" operator checks for identity."
      ],
      "metadata": {
        "id": "o3qm5JxitmWJ"
      }
    },
    {
      "cell_type": "markdown",
      "source": [
        "8.What are logical operators in Python?\n",
        "--Logical operators in Python are used to combine or modify boolean expressions (True or False). There are three main logical operators:\n",
        "and: Returns True if both operands are True, otherwise returns False.\n",
        "or: Returns True if at least one of the operands is True, otherwise returns False.\n",
        "not: Returns True if the operand is False, and False if the operand is True."
      ],
      "metadata": {
        "id": "jGGfidl1ucv2"
      }
    },
    {
      "cell_type": "markdown",
      "source": [
        "9.What is type casting in Python?\n",
        "-- Type Casting, also known as type conversion, is a process that converts a variable's data type into another data type. These conversions can be implicit (automatically interpreted) or explicit (using built-in functions)\n"
      ],
      "metadata": {
        "id": "V474gTg69Zkj"
      }
    },
    {
      "cell_type": "markdown",
      "source": [
        "10.What is the difference between implicit and explicit type casting?\n",
        "--Implicit and explicit type casting, also known as type conversion, are mechanisms for converting a value from one data type to another. Implicit type casting happens automatically by the compiler, while explicit type casting requires the programmer to define the conversion using specific syntax. for exmple:Implicit Type Casting includes int, float. Explicit Type Casting (int)value)."
      ],
      "metadata": {
        "id": "uc8rpCm7_kiW"
      }
    },
    {
      "cell_type": "markdown",
      "source": [
        "11.What is the purpose of conditional statements in Python?\n",
        "--Conditional statements in Python allow your code to make decisions and execute different blocks of code based on whether a condition is true or false. for example: if, else, elseif and elif.\n"
      ],
      "metadata": {
        "id": "PEc05R3AA7l0"
      }
    },
    {
      "cell_type": "markdown",
      "source": [
        "12.How does the elif statement work?\n",
        "--The elif statement in Python is short for \"else if.\" It allows you to check multiple conditions in a sequence, executing the code block associated with the first true condition encountered. If none of the conditions are true, the else block is executed."
      ],
      "metadata": {
        "id": "AoERLRNiBzsS"
      }
    },
    {
      "cell_type": "markdown",
      "source": [
        "13.What is the difference between for and while loops?\n",
        "--The primary difference between for and while loops lies in their intended use and structure. A for loop is designed for iterating over a sequence (like a list or range) with a known number of repetitions. In contrast, a while loop continues executing as long as a specified condition remains true, making it suitable for situations where the number of iterations is unknown beforehand."
      ],
      "metadata": {
        "id": "4ZGRHY38CgqG"
      }
    },
    {
      "cell_type": "markdown",
      "source": [
        "14.Describe a scenario where a while loop is more suitable than a for loop?\n",
        "--A while loop is a better choice than a for loop when you don't know how many times you'll need to repeat a block of code, but you know when to stop based on a condition. For example, you're waiting for a user to enter a specific input, and you'll keep asking until they type the correct answer."
      ],
      "metadata": {
        "id": "F0pVaJTbHuLj"
      }
    },
    {
      "cell_type": "code",
      "source": [
        "#python practical questions:\n"
      ],
      "metadata": {
        "id": "GCuXhn3qQZSN"
      },
      "execution_count": null,
      "outputs": []
    },
    {
      "cell_type": "code",
      "source": [
        "#1Write a Python program to print \"Hello, World.\n",
        "print(\"Hello World\")"
      ],
      "metadata": {
        "colab": {
          "base_uri": "https://localhost:8080/"
        },
        "id": "OfLZIcowQ4OO",
        "outputId": "2271bb2f-85a6-4438-8e85-3561d21a8d5a"
      },
      "execution_count": null,
      "outputs": [
        {
          "output_type": "stream",
          "name": "stdout",
          "text": [
            "Hello World\n"
          ]
        }
      ]
    },
    {
      "cell_type": "code",
      "source": [
        "#2Write a Python program that displays your name and age.\n",
        "name = \"Sapna\"\n",
        "age = \"24\"\n",
        "print(\"My name is\", name)\n",
        "print(\"I am\", age, \"years old\")"
      ],
      "metadata": {
        "colab": {
          "base_uri": "https://localhost:8080/"
        },
        "id": "BCDURvLhRonh",
        "outputId": "8d95c7bd-5c5a-4dda-ddac-6a4afb1aad02"
      },
      "execution_count": null,
      "outputs": [
        {
          "output_type": "stream",
          "name": "stdout",
          "text": [
            "My name is Sapna\n",
            "I am 24 years old\n"
          ]
        }
      ]
    },
    {
      "cell_type": "code",
      "source": [
        "#3Write code to print all the pre-defined keywords in Python using the keyword library.\n",
        "import keyword\n",
        "keyword_list = keyword.kwlist\n",
        "print(\"python keywords are:\")\n",
        "for kw in keyword_list:\n",
        "    print(kw)"
      ],
      "metadata": {
        "colab": {
          "base_uri": "https://localhost:8080/"
        },
        "id": "G9BL5nlzTorv",
        "outputId": "4938dbce-ce92-46c7-e126-ebc0b3568ce1"
      },
      "execution_count": null,
      "outputs": [
        {
          "output_type": "stream",
          "name": "stdout",
          "text": [
            "python keywords are:\n",
            "False\n",
            "None\n",
            "True\n",
            "and\n",
            "as\n",
            "assert\n",
            "async\n",
            "await\n",
            "break\n",
            "class\n",
            "continue\n",
            "def\n",
            "del\n",
            "elif\n",
            "else\n",
            "except\n",
            "finally\n",
            "for\n",
            "from\n",
            "global\n",
            "if\n",
            "import\n",
            "in\n",
            "is\n",
            "lambda\n",
            "nonlocal\n",
            "not\n",
            "or\n",
            "pass\n",
            "raise\n",
            "return\n",
            "try\n",
            "while\n",
            "with\n",
            "yield\n"
          ]
        }
      ]
    },
    {
      "cell_type": "code",
      "source": [
        "#4Write a program that checks if a given word is a Python keyword.\n",
        "import keyword\n",
        "\n",
        "word = input(\"Enter a word: \")\n",
        "\n",
        "if keyword.iskeyword(word):\n",
        "    print(\"It is a Python keyword.\")\n",
        "else:\n",
        "    print(\"It is not a Python keyword.\")\n"
      ],
      "metadata": {
        "colab": {
          "base_uri": "https://localhost:8080/"
        },
        "id": "CwgAul7ZqVJi",
        "outputId": "204604db-d3f4-4850-b8e6-2089391513a4"
      },
      "execution_count": null,
      "outputs": [
        {
          "output_type": "stream",
          "name": "stdout",
          "text": [
            "Enter a word: for\n",
            "It is a Python keyword.\n"
          ]
        }
      ]
    },
    {
      "cell_type": "code",
      "source": [
        "#5Create a list and tuple in Python, and demonstrate how attempting to change an element works differently for each.\n",
        "my_list = [10, 20, 30]\n",
        "my_tuple = (10, 20, 30)\n",
        "my_list[1] = 99\n",
        "print(\"Changed list:\", my_list)\n",
        "\n",
        "my_tuple[1] = 99\n",
        "\n"
      ],
      "metadata": {
        "colab": {
          "base_uri": "https://localhost:8080/",
          "height": 211
        },
        "id": "s14n8sJXqg0_",
        "outputId": "f76931bb-2218-411e-baa1-076f88d69485"
      },
      "execution_count": null,
      "outputs": [
        {
          "output_type": "stream",
          "name": "stdout",
          "text": [
            "Changed list: [10, 99, 30]\n"
          ]
        },
        {
          "output_type": "error",
          "ename": "TypeError",
          "evalue": "'tuple' object does not support item assignment",
          "traceback": [
            "\u001b[0;31m---------------------------------------------------------------------------\u001b[0m",
            "\u001b[0;31mTypeError\u001b[0m                                 Traceback (most recent call last)",
            "\u001b[0;32m<ipython-input-18-e1bfa31f7680>\u001b[0m in \u001b[0;36m<cell line: 0>\u001b[0;34m()\u001b[0m\n\u001b[1;32m      5\u001b[0m \u001b[0mprint\u001b[0m\u001b[0;34m(\u001b[0m\u001b[0;34m\"Changed list:\"\u001b[0m\u001b[0;34m,\u001b[0m \u001b[0mmy_list\u001b[0m\u001b[0;34m)\u001b[0m\u001b[0;34m\u001b[0m\u001b[0;34m\u001b[0m\u001b[0m\n\u001b[1;32m      6\u001b[0m \u001b[0;34m\u001b[0m\u001b[0m\n\u001b[0;32m----> 7\u001b[0;31m \u001b[0mmy_tuple\u001b[0m\u001b[0;34m[\u001b[0m\u001b[0;36m1\u001b[0m\u001b[0;34m]\u001b[0m \u001b[0;34m=\u001b[0m \u001b[0;36m99\u001b[0m\u001b[0;34m\u001b[0m\u001b[0;34m\u001b[0m\u001b[0m\n\u001b[0m\u001b[1;32m      8\u001b[0m \u001b[0;34m\u001b[0m\u001b[0m\n",
            "\u001b[0;31mTypeError\u001b[0m: 'tuple' object does not support item assignment"
          ]
        }
      ]
    },
    {
      "cell_type": "code",
      "source": [
        "#6Write a function to demonstrate the behavior of mutable and immutable arguments.\n",
        "def modify_data(a_list, a_number):\n",
        "    a_list.append(100)  # modifies the original list (mutable)\n",
        "    a_number += 10      # does not affect the original number (immutable)\n",
        "    return a_list, a_number\n",
        "\n",
        "lst = [1, 2, 3]\n",
        "num = 5\n",
        "new_lst, new_num = modify_data(lst, num)\n",
        "\n",
        "print(\"Original list after function call:\", lst)\n",
        "print(\"Original number after function call:\", num)\n"
      ],
      "metadata": {
        "id": "dkRUhOy6rjWy",
        "colab": {
          "base_uri": "https://localhost:8080/"
        },
        "outputId": "e18425e7-469a-440a-98d0-973c462936c6"
      },
      "execution_count": 1,
      "outputs": [
        {
          "output_type": "stream",
          "name": "stdout",
          "text": [
            "Original list after function call: [1, 2, 3, 100]\n",
            "Original number after function call: 5\n"
          ]
        }
      ]
    },
    {
      "cell_type": "code",
      "source": [
        "#7. Write a program that performs basic arithmetic operations on two user-input numbers.\n",
        "a = float(input(\"Enter first number: \"))\n",
        "b = float(input(\"Enter second number: \"))\n",
        "\n",
        "print(\"Addition:\", a + b)\n",
        "print(\"Subtraction:\", a - b)\n",
        "print(\"Multiplication:\", a * b)\n",
        "print(\"Division:\", a / b if b != 0 else \"Cannot divide by zero\")\n"
      ],
      "metadata": {
        "colab": {
          "base_uri": "https://localhost:8080/"
        },
        "id": "U2luuj5mHgmx",
        "outputId": "52664852-2e6d-43ec-de91-3a4b2d78c558"
      },
      "execution_count": 2,
      "outputs": [
        {
          "output_type": "stream",
          "name": "stdout",
          "text": [
            "Enter first number: 5\n",
            "Enter second number: 2\n",
            "Addition: 7.0\n",
            "Subtraction: 3.0\n",
            "Multiplication: 10.0\n",
            "Division: 2.5\n"
          ]
        }
      ]
    },
    {
      "cell_type": "code",
      "source": [
        "#8.Write a program to demonstrate the use of logical operators.\n",
        "x = int(input(\"Enter a number: \"))\n",
        "\n",
        "if x > 0 and x < 100:\n",
        "    print(\"The number is between 1 and 99.\")\n",
        "if x < 0 or x > 100:\n",
        "    print(\"The number is either less than 0 or greater than 100.\")\n",
        "if not x == 50:\n",
        "    print(\"The number is not 50.\")\n"
      ],
      "metadata": {
        "colab": {
          "base_uri": "https://localhost:8080/"
        },
        "id": "hVkWfAtIHuT8",
        "outputId": "fff31385-e65e-4f6c-e529-09fe11e43943"
      },
      "execution_count": 4,
      "outputs": [
        {
          "output_type": "stream",
          "name": "stdout",
          "text": [
            "Enter a number: 65\n",
            "The number is between 1 and 99.\n",
            "The number is not 50.\n"
          ]
        }
      ]
    },
    {
      "cell_type": "code",
      "source": [
        "#9.Write a Python program to convert user input from string to integer, float, and boolean types.\n",
        "user_input = input(\"Enter something: \")\n",
        "\n",
        "int_val = int(user_input)\n",
        "float_val = float(user_input)\n",
        "bool_val = bool(user_input)\n",
        "\n",
        "print(\"Integer:\", int_val)\n",
        "print(\"Float:\", float_val)\n",
        "print(\"Boolean:\", bool_val)\n"
      ],
      "metadata": {
        "colab": {
          "base_uri": "https://localhost:8080/"
        },
        "id": "2dm_JMOZIDSP",
        "outputId": "040be686-da60-40a0-9251-ad8c7fd571b1"
      },
      "execution_count": 7,
      "outputs": [
        {
          "output_type": "stream",
          "name": "stdout",
          "text": [
            "Enter something: 46\n",
            "Integer: 46\n",
            "Float: 46.0\n",
            "Boolean: True\n"
          ]
        }
      ]
    },
    {
      "cell_type": "code",
      "source": [
        "#10.Write code to demonstrate type casting with list elements.\n",
        "str_list = ['1', '2', '3']\n",
        "int_list = [int(i) for i in str_list]\n",
        "\n",
        "print(\"Original list:\", str_list)\n",
        "print(\"After casting to integers:\", int_list)\n"
      ],
      "metadata": {
        "colab": {
          "base_uri": "https://localhost:8080/"
        },
        "id": "ib4q6SMrImdJ",
        "outputId": "0242b235-26d4-456d-8843-b021cfb98fb5"
      },
      "execution_count": 8,
      "outputs": [
        {
          "output_type": "stream",
          "name": "stdout",
          "text": [
            "Original list: ['1', '2', '3']\n",
            "After casting to integers: [1, 2, 3]\n"
          ]
        }
      ]
    },
    {
      "cell_type": "code",
      "source": [
        "#11Write a program that checks if a number is positive, negative, or zero.\n",
        "num = float(input(\"Enter a number: \"))\n",
        "\n",
        "if num > 0:\n",
        "    print(\"Positive\")\n",
        "elif num < 0:\n",
        "    print(\"Negative\")\n",
        "else:\n",
        "    print(\"Zero\")\n"
      ],
      "metadata": {
        "colab": {
          "base_uri": "https://localhost:8080/"
        },
        "id": "PB0hVjQIIvXi",
        "outputId": "b7e8723b-aceb-430a-a9d6-8dda78537787"
      },
      "execution_count": 9,
      "outputs": [
        {
          "output_type": "stream",
          "name": "stdout",
          "text": [
            "Enter a number: 3\n",
            "Positive\n"
          ]
        }
      ]
    },
    {
      "cell_type": "code",
      "source": [
        "#12Write a for loop to print numbers from 1 to 10.\n",
        "for i in range(1, 11):\n",
        "    print(i)\n"
      ],
      "metadata": {
        "colab": {
          "base_uri": "https://localhost:8080/"
        },
        "id": "M4re4gvmI9Fn",
        "outputId": "6e39e5eb-8e3a-4f5c-8e69-4e513d2df941"
      },
      "execution_count": 10,
      "outputs": [
        {
          "output_type": "stream",
          "name": "stdout",
          "text": [
            "1\n",
            "2\n",
            "3\n",
            "4\n",
            "5\n",
            "6\n",
            "7\n",
            "8\n",
            "9\n",
            "10\n"
          ]
        }
      ]
    },
    {
      "cell_type": "code",
      "source": [
        "#13Write a Python program to find the sum of all even numbers between 1 and 50.\n",
        "total = 0\n",
        "for i in range(2, 51, 2):\n",
        "    total += i\n",
        "print(\"Sum of even numbers between 1 and 50:\", total)\n"
      ],
      "metadata": {
        "colab": {
          "base_uri": "https://localhost:8080/"
        },
        "id": "bbfs9MqoJI6B",
        "outputId": "71e5af4c-91d9-46a9-a2af-20fe942ac416"
      },
      "execution_count": 11,
      "outputs": [
        {
          "output_type": "stream",
          "name": "stdout",
          "text": [
            "Sum of even numbers between 1 and 50: 650\n"
          ]
        }
      ]
    },
    {
      "cell_type": "code",
      "source": [
        "#14Write a program to reverse a string using a while loop.\n",
        "s = input(\"Enter a string: \")\n",
        "reversed_str = \"\"\n",
        "i = len(s) - 1\n",
        "\n",
        "while i >= 0:\n",
        "    reversed_str += s[i]\n",
        "    i -= 1\n",
        "\n",
        "print(\"Reversed string:\", reversed_str)\n"
      ],
      "metadata": {
        "colab": {
          "base_uri": "https://localhost:8080/"
        },
        "id": "zCMrlLVHJTWZ",
        "outputId": "a136d344-1f39-4e6d-db58-447613322b70"
      },
      "execution_count": 12,
      "outputs": [
        {
          "output_type": "stream",
          "name": "stdout",
          "text": [
            "Enter a string: sapna\n",
            "Reversed string: anpas\n"
          ]
        }
      ]
    },
    {
      "cell_type": "code",
      "source": [
        "#15Write a Python program to calculate the factorial of a number provided by the user using a while loop.\n",
        "num = int(input(\"Enter a number: \"))\n",
        "factorial = 1\n",
        "i = 1\n",
        "\n",
        "while i <= num:\n",
        "    factorial *= i\n",
        "    i += 1\n",
        "\n",
        "print(\"Factorial of\", num, \"is\", factorial)\n"
      ],
      "metadata": {
        "colab": {
          "base_uri": "https://localhost:8080/"
        },
        "id": "J05TLWkBJlN2",
        "outputId": "18e3d0ff-f0be-4acb-b1e0-6d5a3b8020db"
      },
      "execution_count": 13,
      "outputs": [
        {
          "output_type": "stream",
          "name": "stdout",
          "text": [
            "Enter a number: 7\n",
            "Factorial of 7 is 5040\n"
          ]
        }
      ]
    }
  ]
}